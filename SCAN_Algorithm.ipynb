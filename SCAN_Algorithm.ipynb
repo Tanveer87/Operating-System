{
  "nbformat": 4,
  "nbformat_minor": 0,
  "metadata": {
    "colab": {
      "name": "SCAN_Algorithm.ipynb",
      "provenance": [],
      "collapsed_sections": [],
      "authorship_tag": "ABX9TyMJPgGXXC3wOsQvLCqrEPQp",
      "include_colab_link": true
    },
    "kernelspec": {
      "name": "python3",
      "display_name": "Python 3"
    },
    "language_info": {
      "name": "python"
    }
  },
  "cells": [
    {
      "cell_type": "markdown",
      "metadata": {
        "id": "view-in-github",
        "colab_type": "text"
      },
      "source": [
        "<a href=\"https://colab.research.google.com/github/Tanveer87/Operating-System/blob/main/SCAN_Algorithm.ipynb\" target=\"_parent\"><img src=\"https://colab.research.google.com/assets/colab-badge.svg\" alt=\"Open In Colab\"/></a>"
      ]
    },
    {
      "cell_type": "markdown",
      "metadata": {
        "id": "-Yk_vO4LmNLO"
      },
      "source": [
        "## **SCAN Algorithm**"
      ]
    },
    {
      "cell_type": "code",
      "metadata": {
        "colab": {
          "base_uri": "https://localhost:8080/"
        },
        "id": "NAuwqJrtmNfG",
        "outputId": "6607371b-7d2d-40da-ed71-2fa3fa491d18"
      },
      "source": [
        "def Take_Queue():\n",
        "    input_Queue = (input('Input queue : ')).strip(',');\n",
        "    array = input_Queue.split(',');\n",
        "    length_of_queue = len(array);\n",
        "\n",
        "    return length_of_queue, array;\n",
        "\n",
        "\n",
        "def Take_head_start():\n",
        "    head_start = int(input('Head Starts : '));\n",
        "    return head_start\n",
        "\n",
        "\n",
        "def Take_upper_bound():\n",
        "    upper_bound = int(input('Input Upper Bound : '));\n",
        "    return upper_bound\n",
        "\n",
        "\n",
        "def Take_lower_bound():\n",
        "    lower_bound = int(input('Input Lower Bound : '));\n",
        "    return lower_bound\n",
        "\n",
        "\n",
        "def main_process(length_of_queue, head_start, array):\n",
        "    second_value = head_start;\n",
        "    Total_distance = 0;\n",
        "    path = str(head_start);\n",
        "    head_to_lower_bound = []\n",
        "    head_to_upper_bound = []\n",
        "    a=Take_upper_bound()\n",
        "    b=Take_lower_bound()\n",
        "    Cal_path=''\n",
        "\n",
        "    for i in range(0, length_of_queue):\n",
        "        if int(array[i]) < head_start:\n",
        "            head_to_lower_bound.append(int(array[i]))\n",
        "        else:\n",
        "            head_to_upper_bound.append(int(array[i]))\n",
        "    empty = []\n",
        "    for s in range(0, len(head_to_upper_bound) - 1):\n",
        "        for y in range(0, len(head_to_upper_bound) - 1):\n",
        "            if head_to_upper_bound[y] > head_to_upper_bound[y + 1]:\n",
        "                empty = head_to_upper_bound[y]\n",
        "                head_to_upper_bound[y] = head_to_upper_bound[y + 1]\n",
        "                head_to_upper_bound[y + 1] = empty\n",
        "    empty = [];\n",
        "    for s in range(0, len(head_to_lower_bound) - 1):\n",
        "        for y in range(0, len(head_to_lower_bound) - 1):\n",
        "            if head_to_lower_bound[y] < head_to_lower_bound[y + 1]:\n",
        "                empty = head_to_lower_bound[y]\n",
        "                head_to_lower_bound[y] = head_to_lower_bound[y + 1]\n",
        "                head_to_lower_bound[y + 1] = empty\n",
        "\n",
        "    for z in range(0,len(head_to_lower_bound)):\n",
        "        if int(head_to_lower_bound[z]) > second_value:\n",
        "            path = path + ' ' + str(head_to_lower_bound[z])\n",
        "\n",
        "            Total_distance = Total_distance + (int(head_to_lower_bound[z]) - second_value)\n",
        "            Cal_path = Cal_path + '('+  str(head_to_lower_bound[z]) + '-' + str(second_value)+')'\n",
        "            second_value = int(head_to_lower_bound[z])\n",
        "        else:\n",
        "            path = path + ' ' + str(head_to_lower_bound[z]);\n",
        "\n",
        "            Total_distance = Total_distance + (second_value - int(head_to_lower_bound[z]));\n",
        "            Cal_path = Cal_path  + '('+str(second_value) + '-' + str(head_to_lower_bound[z])+')'\n",
        "            second_value = int(head_to_lower_bound[z]);\n",
        "\n",
        "        Cal_path = Cal_path + '+'\n",
        "\n",
        "    Total_distance = Total_distance + (second_value - b)\n",
        "    Cal_path = Cal_path  + '(' + str(second_value) + '-' + str(b) + ')'\n",
        "    Cal_path = Cal_path + '+'\n",
        "    second_value = b\n",
        "    path = path + ' ' + str(b)\n",
        "    for x in range(0, len(head_to_upper_bound)):\n",
        "        if int(head_to_upper_bound[x]) > second_value:\n",
        "            path = path + ' ' + str(head_to_upper_bound[x])\n",
        "            Total_distance = Total_distance + (int(head_to_upper_bound[x]) - second_value)\n",
        "            Cal_path = Cal_path + '('+ str(head_to_upper_bound[x]) + '-' + str(second_value)+')'\n",
        "            second_value = int(head_to_upper_bound[x])\n",
        "        else:\n",
        "            path = path + ' ' + str(head_to_upper_bound[x])\n",
        "            Total_distance = Total_distance + (second_value - int(head_to_upper_bound[x]))\n",
        "            Cal_path = Cal_path  + '('+ str(second_value) + '-' + str(head_to_upper_bound[x])+')'\n",
        "            second_value = int(head_to_upper_bound[x])\n",
        "        if x==len(head_to_upper_bound)-1:\n",
        "            break\n",
        "        else:\n",
        "            Cal_path = Cal_path + '+'\n",
        "\n",
        "    print('Path Calculation : ' + Cal_path)\n",
        "    print('Total Distance : ' + str(Total_distance))\n",
        "    print('Path--> ' + path)\n",
        "\n",
        "\n",
        "\n",
        "a, b = Take_Queue()\n",
        "c = Take_head_start()\n",
        "main_process(a, c, b)\n"
      ],
      "execution_count": 5,
      "outputs": [
        {
          "output_type": "stream",
          "text": [
            "Input queue : 98,183,37,122,14,124,65,67\n",
            "Head Starts : 53\n",
            "Input Upper Bound : 199\n",
            "Input Lower Bound : 0\n",
            "Path Calculation : (53-37)+(37-14)+(14-0)+(65-0)+(67-65)+(98-67)+(122-98)+(124-122)+(183-124)\n",
            "Total Distance : 236\n",
            "Path--> 53 37 14 0 65 67 98 122 124 183\n"
          ],
          "name": "stdout"
        }
      ]
    }
  ]
}