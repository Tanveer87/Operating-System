{
  "nbformat": 4,
  "nbformat_minor": 0,
  "metadata": {
    "colab": {
      "name": "Lab03_CSE406_(11-8-2021)",
      "provenance": [],
      "collapsed_sections": [],
      "authorship_tag": "ABX9TyPRsFLOwFwlWTD3PuzOnmCY",
      "include_colab_link": true
    },
    "kernelspec": {
      "name": "python3",
      "display_name": "Python 3"
    },
    "language_info": {
      "name": "python"
    }
  },
  "cells": [
    {
      "cell_type": "markdown",
      "metadata": {
        "id": "view-in-github",
        "colab_type": "text"
      },
      "source": [
        "<a href=\"https://colab.research.google.com/github/Tanveer87/Operating-System/blob/main/Lab03_CSE406_(11_8_2021).ipynb\" target=\"_parent\"><img src=\"https://colab.research.google.com/assets/colab-badge.svg\" alt=\"Open In Colab\"/></a>"
      ]
    },
    {
      "cell_type": "markdown",
      "metadata": {
        "id": "Z7m4X4x3aB_p"
      },
      "source": [
        "# Priority Scheduling "
      ]
    },
    {
      "cell_type": "code",
      "metadata": {
        "colab": {
          "base_uri": "https://localhost:8080/"
        },
        "id": "NwuTz8yaaTw9",
        "outputId": "2f2b1542-3c57-4d69-922e-9206f1694568"
      },
      "source": [
        "def input_data():\n",
        "    input_total_process = int(input('Number of process : '));\n",
        "    array = [];\n",
        "    for x in range(0, input_total_process):\n",
        "        a = 'p' + str(x + 1);\n",
        "        burst_time = int(input('Burst time for ' + a + ': '));\n",
        "        Priority = int(input('Priority for ' + a + ': '));\n",
        "        b = [a, burst_time,Priority];\n",
        "        array.append(b);\n",
        "\n",
        "\n",
        "    empty = [];\n",
        "    for s in range(0, len(array) - 1):\n",
        "        for y in range(0, len(array) - 1):\n",
        "            if array[y][2] > array[y + 1][2]:\n",
        "                empty = array[y]\n",
        "                array[y] = array[y + 1]\n",
        "                array[y + 1] = empty\n",
        "\n",
        "    return array,input_total_process\n",
        "\n",
        "def main_function(array,input_total_process):\n",
        "    time=0\n",
        "    total_time=0\n",
        "    chart = ''\n",
        "    chart2 = ''\n",
        "    string=''\n",
        "    for z in range(0,len(array)):\n",
        "        time =time + array[z][1]\n",
        "        chart=chart+array[z][0]\n",
        "        if(z<len(array)-1):\n",
        "            total_time=total_time+time\n",
        "        string=string+' '+array[z][0]+' '+ str(time)\n",
        "    print('GANTT Chart : '+'0'+string)\n",
        "    average_wating_time=total_time/input_total_process\n",
        "    print('Average time : '+ str(average_wating_time))\n",
        "\n",
        "a,b=input_data()\n",
        "\n",
        "main_function(a,b)\n"
      ],
      "execution_count": 3,
      "outputs": [
        {
          "output_type": "stream",
          "text": [
            "Number of process : 4\n",
            "Burst time for p1: 21\n",
            "Priority for p1: 2\n",
            "Burst time for p2: 3\n",
            "Priority for p2: 1\n",
            "Burst time for p3: 6\n",
            "Priority for p3: 4\n",
            "Burst time for p4: 2\n",
            "Priority for p4: 3\n",
            "GANTT Chart : 0 p2 3 p1 24 p4 26 p3 32\n",
            "Average time : 13.25\n"
          ],
          "name": "stdout"
        }
      ]
    },
    {
      "cell_type": "markdown",
      "metadata": {
        "id": "9f6SA7KobhIg"
      },
      "source": [
        "# Round Robin"
      ]
    },
    {
      "cell_type": "code",
      "metadata": {
        "colab": {
          "base_uri": "https://localhost:8080/"
        },
        "id": "2V56Ab4acjjs",
        "outputId": "eaa3029f-1f84-4c0e-988a-ae656a2b6843"
      },
      "source": [
        "def input_data():\n",
        "    input_total_process = int(input('Number of process : '));\n",
        "    array = [];\n",
        "    sum_of_burst_time = 0;\n",
        "    index = [];\n",
        "    sum_arrayOf_single_process_wating_time=[];\n",
        "    wating_time_array=[];\n",
        "    for x in range(0, input_total_process):\n",
        "        index.append(0);\n",
        "        process_no = 'p' + str(x + 1);\n",
        "        burst_time = int(input('Process ' + process_no + ': '));\n",
        "        sum_of_burst_time = sum_of_burst_time +burst_time;\n",
        "        single_process_array = [process_no, burst_time];\n",
        "        processNo_starting_ending_wating=[process_no,0,0,0];\n",
        "        processNo_andItstotal_wating_time=[process_no,0];\n",
        "        array.append(single_process_array);\n",
        "        wating_time_array.append(processNo_starting_ending_wating);\n",
        "        sum_arrayOf_single_process_wating_time.append(processNo_andItstotal_wating_time);\n",
        "    Quantam = int(input('Quantam number : '));\n",
        "\n",
        "    y=0;\n",
        "    wating_time=0;\n",
        "    starting_time=0;\n",
        "    ending_time=0;\n",
        "    grntt_chart='0';\n",
        "\n",
        "    while(sum_of_burst_time>y):\n",
        "        for a in range(0,input_total_process):\n",
        "            starting_time=y;\n",
        "\n",
        "\n",
        "            for z in range(1, Quantam + 1):\n",
        "                if array[a][1] >0:\n",
        "                    y=y+1;\n",
        "                    array[a][1] = array[a][1] - 1;\n",
        "                else:\n",
        "                    index[a]=index[a]+1;\n",
        "\n",
        "            ending_time = y\n",
        "            if starting_time != ending_time:\n",
        "                wating_time=starting_time-wating_time_array[a][2]\n",
        "                sum_arrayOf_single_process_wating_time[a][1]=int(sum_arrayOf_single_process_wating_time[a][1])+int(wating_time)\n",
        "\n",
        "\n",
        "            wating_time_array[a][1]=starting_time;\n",
        "            wating_time_array[a][2]=ending_time;\n",
        "            wating_time_array[a][3]=wating_time;\n",
        "\n",
        "\n",
        "\n",
        "\n",
        "            if index[a]< Quantam+1:\n",
        "                grntt_chart = grntt_chart + ' ' + array[a][0]\n",
        "                grntt_chart=grntt_chart+' '+ str(y)\n",
        "    sum=0;\n",
        "    for m in range(0, input_total_process):\n",
        "        sum=sum+sum_arrayOf_single_process_wating_time[m][1];\n",
        "    sum=sum/input_total_process\n",
        "\n",
        "    print('Average time will be : ' + str(sum))\n",
        "\n",
        "    print('GANTT Chart : ' + grntt_chart)\n",
        "\n",
        "\n",
        "\n",
        "input_data()"
      ],
      "execution_count": 4,
      "outputs": [
        {
          "output_type": "stream",
          "text": [
            "Number of process : 4\n",
            "Process p1: 21\n",
            "Process p2: 3\n",
            "Process p3: 6\n",
            "Process p4: 2\n",
            "Quantam number : 5\n",
            "Average time will be : 11.0\n",
            "GANTT Chart : 0 p1 5 p2 8 p3 13 p4 15 p1 20 p3 21 p1 26 p1 31 p1 32\n"
          ],
          "name": "stdout"
        }
      ]
    }
  ]
}