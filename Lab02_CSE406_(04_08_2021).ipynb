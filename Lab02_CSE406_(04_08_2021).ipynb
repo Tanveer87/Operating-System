{
  "nbformat": 4,
  "nbformat_minor": 0,
  "metadata": {
    "colab": {
      "name": "Lab02_CSE406_(04-08-2021).ipynb",
      "provenance": [],
      "authorship_tag": "ABX9TyORC/l7RLwWGf3IlpFfsPD7",
      "include_colab_link": true
    },
    "kernelspec": {
      "name": "python3",
      "display_name": "Python 3"
    },
    "language_info": {
      "name": "python"
    }
  },
  "cells": [
    {
      "cell_type": "markdown",
      "metadata": {
        "id": "view-in-github",
        "colab_type": "text"
      },
      "source": [
        "<a href=\"https://colab.research.google.com/github/Tanveer87/Operating-System/blob/main/Lab02_CSE406_(04_08_2021).ipynb\" target=\"_parent\"><img src=\"https://colab.research.google.com/assets/colab-badge.svg\" alt=\"Open In Colab\"/></a>"
      ]
    },
    {
      "cell_type": "markdown",
      "metadata": {
        "id": "csf_iWJ_U6tx"
      },
      "source": [
        "# **First Come First Serve**\n",
        "\n",
        "> Indented block\n",
        "\n"
      ]
    },
    {
      "cell_type": "code",
      "metadata": {
        "colab": {
          "base_uri": "https://localhost:8080/"
        },
        "id": "4ixCFGQBd5JJ",
        "outputId": "eb74c8a3-11bd-482d-b4c4-58831f2f3919"
      },
      "source": [
        "def inputData():\n",
        "    inputTotalProcess = int(input('Number of process : '));\n",
        "    burstTimeArray = [];\n",
        "    processArray = [];\n",
        "    for x in range(1, inputTotalProcess + 1):\n",
        "        a = 'p' + str(x);\n",
        "        processArray.append(a);\n",
        "        burstTime = input(a + ': ');\n",
        "        burstTimeArray.append(int(burstTime));\n",
        "    return burstTimeArray, inputTotalProcess, processArray;\n",
        "\n",
        "\n",
        "def averageTime(burstTimeArray, inputTotalProcess):\n",
        "    time = 0;\n",
        "    totalTime = 0;\n",
        "    waitngTimeArray = [];\n",
        "    for y in range(0, len(burstTimeArray)):\n",
        "        time = time + int(burstTimeArray[y]);\n",
        "        waitngTimeArray.append(time);\n",
        "        if (y < len(burstTimeArray) - 1):\n",
        "            totalTime = totalTime + time;\n",
        "\n",
        "    averageTime = int(totalTime) / int(inputTotalProcess);\n",
        "    print('Average time : ' + str(averageTime) + ' ms ');\n",
        "    return waitngTimeArray;\n",
        "\n",
        "\n",
        "def ganttChart(waitngTimeArray, processArray):\n",
        "    chart = '';\n",
        "    for z in range(0, len(waitngTimeArray)):\n",
        "        element = processArray[z] + ' ' + str(waitngTimeArray[z]);\n",
        "        chart = chart + ' ' + element;\n",
        "    print('GANTT Chart : '+'0' + chart);\n",
        "\n",
        "\n",
        "a, b, c = inputData();\n",
        "ganttChart(d, c);\n",
        "d = averageTime(a, b);\n"
      ],
      "execution_count": null,
      "outputs": [
        {
          "output_type": "stream",
          "text": [
            "Number of process : 4\n",
            "p1: 21\n",
            "p2: 3\n",
            "p3: 6\n",
            "p4: 2\n",
            "GANTT Chart : 0 p1 21 p2 24 p3 30 p4 32\n",
            "Average time : 18.75 ms \n"
          ],
          "name": "stdout"
        }
      ]
    },
    {
      "cell_type": "markdown",
      "metadata": {
        "id": "s8TPWniTjxod"
      },
      "source": [
        "# **Shortest Job First**"
      ]
    },
    {
      "cell_type": "code",
      "metadata": {
        "colab": {
          "base_uri": "https://localhost:8080/"
        },
        "id": "5GRDjT-oj3io",
        "outputId": "ff71ee05-9f2d-470c-c258-696d6ca14e90"
      },
      "source": [
        "def inputData():\n",
        "    inputTotalProcess = int(input('Number of process : '));\n",
        "    array = [];\n",
        "    for x in range(0, inputTotalProcess):\n",
        "        a = 'p' + str(x + 1);\n",
        "        burstTime = int(input(a + ': '));\n",
        "        b = [a, burstTime];\n",
        "        array.append(b);\n",
        "\n",
        "    empty = [];\n",
        "    for y in range(0, len(array) - 1):\n",
        "        for y in range(0, len(array) - 1):\n",
        "            if array[y][1] > array[y + 1][1]:\n",
        "                empty = array[y]\n",
        "                array[y] = array[y + 1]\n",
        "                array[y + 1] = empty\n",
        "    return array,inputTotalProcess\n",
        "\n",
        "def mainFunction(array,inputTotalProcess):\n",
        "    time=0\n",
        "    totalTime=0\n",
        "    chart = ''\n",
        "    chart2 = ''\n",
        "    string=''\n",
        "    for z in range(0,len(array)):\n",
        "        time =time + array[z][1]\n",
        "        chart=chart+array[z][0]\n",
        "        if(z<len(array)-1):\n",
        "            totalTime=totalTime+time\n",
        "        string=string+' '+array[z][0]+' '+ str(time)\n",
        "    print('GANTT Chart : '+'0'+string)\n",
        "    averageWatingTime=totalTime/inputTotalProcess\n",
        "    print('Average time : '+ str(averageWatingTime) + ' ms')\n",
        "\n",
        "a,b=inputData()\n",
        "\n",
        "mainFunction(a,b)"
      ],
      "execution_count": null,
      "outputs": [
        {
          "output_type": "stream",
          "text": [
            "Number of process : 4\n",
            "p1: 21\n",
            "p2: 3\n",
            "p3: 6\n",
            "p4: 2\n",
            "GANTT Chart : 0 p4 2 p2 5 p3 11 p1 32\n",
            "Average time : 4.5 ms\n"
          ],
          "name": "stdout"
        }
      ]
    }
  ]
}