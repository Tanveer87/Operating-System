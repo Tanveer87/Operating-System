{
  "nbformat": 4,
  "nbformat_minor": 0,
  "metadata": {
    "colab": {
      "name": "Shortest Seek Time First(SSTF).ipynb",
      "provenance": [],
      "authorship_tag": "ABX9TyOgGo3ep4Ft343Qxzxj32QR",
      "include_colab_link": true
    },
    "kernelspec": {
      "name": "python3",
      "display_name": "Python 3"
    },
    "language_info": {
      "name": "python"
    }
  },
  "cells": [
    {
      "cell_type": "markdown",
      "metadata": {
        "id": "view-in-github",
        "colab_type": "text"
      },
      "source": [
        "<a href=\"https://colab.research.google.com/github/Tanveer87/Operating-System/blob/main/Shortest_Seek_Time_First(SSTF).ipynb\" target=\"_parent\"><img src=\"https://colab.research.google.com/assets/colab-badge.svg\" alt=\"Open In Colab\"/></a>"
      ]
    },
    {
      "cell_type": "markdown",
      "metadata": {
        "id": "EjeUPJPnwHfV"
      },
      "source": [
        "## Shortest Seek Time First(SSTF)"
      ]
    },
    {
      "cell_type": "code",
      "metadata": {
        "colab": {
          "base_uri": "https://localhost:8080/"
        },
        "id": "6kROVMJ4wB_e",
        "outputId": "4dd54df8-42dc-4a0f-a30d-dbe407caccbd"
      },
      "source": [
        "queue = list(map(int, input('Enter sequence : ').split()))\n",
        "header = int(input('Give header : '))\n",
        "\n",
        "queue.insert(0, header)\n",
        "path = [header]\n",
        "cnt = len(queue)-1\n",
        "val=0\n",
        "while queue:\n",
        "    \n",
        "    if cnt == 0:\n",
        "        queue.remove(header)\n",
        "        hdr = path[len(path)-1]\n",
        "        minDist = 9999999999999999999\n",
        "        for i in queue:\n",
        "            if minDist>abs(hdr-i):\n",
        "                minDist = abs(hdr-i)\n",
        "                temp = i\n",
        "        print('abs({}-{})'.format(hdr,temp))\n",
        "        path.append(temp)\n",
        "        header=temp\n",
        "    else:\n",
        "        queue.remove(header)\n",
        "        hdr = path[len(path)-1]\n",
        "        minDist = 9999999999999999999\n",
        "        for i in queue:\n",
        "            if minDist>abs(hdr-i):\n",
        "                minDist = abs(hdr-i)\n",
        "                temp = i\n",
        "        print('abs({}-{})'.format(hdr,temp),end='+')\n",
        "        val+=abs(hdr-temp)\n",
        "        path.append(temp)\n",
        "        header=temp\n",
        "\n",
        "        \n",
        "    cnt-=1\n",
        "print('Path is =',path[:-1])\n",
        "print('Path cost is =',val)    "
      ],
      "execution_count": 4,
      "outputs": [
        {
          "output_type": "stream",
          "text": [
            "Enter sequence : 98 183 37 122 14 124 65 67\n",
            "Give header : 53\n",
            "abs(53-65)+abs(65-67)+abs(67-37)+abs(37-14)+abs(14-98)+abs(98-122)+abs(122-124)+abs(124-183)+abs(183-183)\n",
            "Path is = [53, 65, 67, 37, 14, 98, 122, 124, 183]\n",
            "Path cost is = 236\n"
          ],
          "name": "stdout"
        }
      ]
    }
  ]
}