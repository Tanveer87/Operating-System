{
  "nbformat": 4,
  "nbformat_minor": 0,
  "metadata": {
    "colab": {
      "name": "First Come First Serve(FCFS).ipynb",
      "provenance": [],
      "authorship_tag": "ABX9TyOhT4Cai5T6ds4wX+UydXuk",
      "include_colab_link": true
    },
    "kernelspec": {
      "name": "python3",
      "display_name": "Python 3"
    },
    "language_info": {
      "name": "python"
    }
  },
  "cells": [
    {
      "cell_type": "markdown",
      "metadata": {
        "id": "view-in-github",
        "colab_type": "text"
      },
      "source": [
        "<a href=\"https://colab.research.google.com/github/Tanveer87/Operating-System/blob/main/First_Come_First_Serve(FCFS).ipynb\" target=\"_parent\"><img src=\"https://colab.research.google.com/assets/colab-badge.svg\" alt=\"Open In Colab\"/></a>"
      ]
    },
    {
      "cell_type": "markdown",
      "metadata": {
        "id": "20LalHc2vHNm"
      },
      "source": [
        "## FCFS"
      ]
    },
    {
      "cell_type": "code",
      "metadata": {
        "colab": {
          "base_uri": "https://localhost:8080/"
        },
        "id": "RE-ndAW1vRCR",
        "outputId": "b3aab8b3-2cc5-4d5e-f0b5-1b56fcb7a6a0"
      },
      "source": [
        "queue = list(map(int, input('Enter sequence : ').split()))\n",
        "header = int(input('Give header : '))\n",
        "\n",
        "queue.insert(0, header)\n",
        "print('Path is',queue)\n",
        "\n",
        "temp = [0]\n",
        "\n",
        "for i in range(1,len(queue)):\n",
        "    if i == len(queue)-1:\n",
        "        print('abs({}-{})'.format(queue[i],queue[i-1]))\n",
        "    else:\n",
        "        print('abs({}-{})'.format(queue[i],queue[i-1]),end='+')\n",
        "    temp.append(abs(queue[i]-queue[i-1]))\n",
        "\n",
        "print('Total path cost is',sum(temp))    "
      ],
      "execution_count": 2,
      "outputs": [
        {
          "output_type": "stream",
          "text": [
            "Enter sequence : 98 183 37 122 14 124 65 67\n",
            "Give header : 53\n",
            "Path is [53, 98, 183, 37, 122, 14, 124, 65, 67]\n",
            "abs(98-53)+abs(183-98)+abs(37-183)+abs(122-37)+abs(14-122)+abs(124-14)+abs(65-124)+abs(67-65)\n",
            "Total path cost is 640\n"
          ],
          "name": "stdout"
        }
      ]
    }
  ]
}