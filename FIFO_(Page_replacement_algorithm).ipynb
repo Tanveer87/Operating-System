{
  "nbformat": 4,
  "nbformat_minor": 0,
  "metadata": {
    "colab": {
      "name": "FIFO (Page replacement algorithm).ipynb",
      "provenance": [],
      "authorship_tag": "ABX9TyPe+YTi1vbNgNL2uCrjyFdd",
      "include_colab_link": true
    },
    "kernelspec": {
      "name": "python3",
      "display_name": "Python 3"
    },
    "language_info": {
      "name": "python"
    }
  },
  "cells": [
    {
      "cell_type": "markdown",
      "metadata": {
        "id": "view-in-github",
        "colab_type": "text"
      },
      "source": [
        "<a href=\"https://colab.research.google.com/github/Tanveer87/Operating-System/blob/main/FIFO_(Page_replacement_algorithm).ipynb\" target=\"_parent\"><img src=\"https://colab.research.google.com/assets/colab-badge.svg\" alt=\"Open In Colab\"/></a>"
      ]
    },
    {
      "cell_type": "markdown",
      "metadata": {
        "id": "C9pupqiOwBYz"
      },
      "source": [
        "## FIFO (Page replacement algorithm)"
      ]
    },
    {
      "cell_type": "code",
      "metadata": {
        "colab": {
          "base_uri": "https://localhost:8080/"
        },
        "id": "8NWOoI73v4Ln",
        "outputId": "84a2e26e-3a51-4cac-f3eb-0e336fc7fba0"
      },
      "source": [
        "a=[]\n",
        "sum=0\n",
        "f= int (input(\"Enter no of Frames: \"))\n",
        "check= input(\"Do you want to use user input[y/n]: \")\n",
        "if check=='y':\n",
        "    a=[7,0,1,2,0,3,0,4,2,3,0,3,2,1,2,0,1,7,0,1]\n",
        "    print(\"Inputs are: \",a)\n",
        "else:\n",
        "    n= int (input(\"Enter no of String : \"))\n",
        "    print(\"Enter the string: \")\n",
        "    for i in range(n):\n",
        "      t= int (input())\n",
        "      a.append(t)\n",
        "n=len(a)\n",
        "print(n)\n",
        "m=[]\n",
        "c=[]\n",
        "for i in range(f):\n",
        "    m.append(-1)\n",
        "count=0\n",
        "print('\\nOutput wil be: ')\n",
        "for i in range(n):\n",
        "    test=0\n",
        "    p=0\n",
        "    for p in range(f):\n",
        "        c.append(m[p])\n",
        "\n",
        "    if count>=f:\n",
        "        count=0\n",
        "    for j in range(f):\n",
        "        if a[i]==m[j]:\n",
        "            test=1\n",
        "            break\n",
        "    if test==0:\n",
        "        m[count]= a[i]\n",
        "        count+=1\n",
        "        sum+=1\n",
        "\n",
        "\n",
        "    if c==m:\n",
        "        for q in range(f):\n",
        "            print('-',end=' ')\n",
        "    else:\n",
        "        for q in range(f):\n",
        "            if m[q]==-1:\n",
        "                print(\"-\",end=' ')\n",
        "            else:\n",
        "                print(m[q],end=' ')\n",
        "    c.clear()\n",
        "    print()\n",
        "\n",
        "print(\"Page Fault: \",sum)\n"
      ],
      "execution_count": 3,
      "outputs": [
        {
          "output_type": "stream",
          "name": "stdout",
          "text": [
            "Enter no of Frames: 3\n",
            "Do you want to use user input[y/n]: y\n",
            "Inputs are:  [7, 0, 1, 2, 0, 3, 0, 4, 2, 3, 0, 3, 2, 1, 2, 0, 1, 7, 0, 1]\n",
            "20\n",
            "\n",
            "Output wil be: \n",
            "7 - - \n",
            "7 0 - \n",
            "7 0 1 \n",
            "2 0 1 \n",
            "- - - \n",
            "2 3 1 \n",
            "2 3 0 \n",
            "4 3 0 \n",
            "4 2 0 \n",
            "4 2 3 \n",
            "0 2 3 \n",
            "- - - \n",
            "- - - \n",
            "0 1 3 \n",
            "0 1 2 \n",
            "- - - \n",
            "- - - \n",
            "7 1 2 \n",
            "7 0 2 \n",
            "7 0 1 \n",
            "Page Fault:  15\n"
          ]
        }
      ]
    }
  ]
}