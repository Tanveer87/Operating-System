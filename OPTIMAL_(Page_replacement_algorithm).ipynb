{
  "nbformat": 4,
  "nbformat_minor": 0,
  "metadata": {
    "colab": {
      "name": "OPTIMAL (Page replacement algorithm).ipynb",
      "provenance": [],
      "authorship_tag": "ABX9TyM/gJccVc72n/CADTwvUTBT",
      "include_colab_link": true
    },
    "kernelspec": {
      "name": "python3",
      "display_name": "Python 3"
    },
    "language_info": {
      "name": "python"
    }
  },
  "cells": [
    {
      "cell_type": "markdown",
      "metadata": {
        "id": "view-in-github",
        "colab_type": "text"
      },
      "source": [
        "<a href=\"https://colab.research.google.com/github/Tanveer87/Operating-System/blob/main/OPTIMAL_(Page_replacement_algorithm).ipynb\" target=\"_parent\"><img src=\"https://colab.research.google.com/assets/colab-badge.svg\" alt=\"Open In Colab\"/></a>"
      ]
    },
    {
      "cell_type": "markdown",
      "metadata": {
        "id": "dUMIVo1DycK3"
      },
      "source": [
        "## **OPTIMAL (Page replacement algorithm)**"
      ]
    },
    {
      "cell_type": "code",
      "metadata": {
        "colab": {
          "base_uri": "https://localhost:8080/"
        },
        "id": "OX_UwhK5v3Mm",
        "outputId": "3de45d15-69c6-4474-adf8-84bed7acb983"
      },
      "source": [
        "a=[]\n",
        "sum=0\n",
        "f= int (input(\"Enter no of Frames: \"))\n",
        "check= input(\"Do you want to use user input[y/n]: \")\n",
        "if check=='y':\n",
        "    a=[3,2,3,1,4,1,4,2,6,1,2,4,1,5,3,6,1,2,3,1]\n",
        "    print(\"Inputs are: \", a)\n",
        "else:\n",
        "    n= int (input(\"Enter no of String : \"))\n",
        "    print(\"Enter the string: \")\n",
        "    for i in range(n):\n",
        "      t= int (input())\n",
        "      a.append(t)\n",
        "n=len(a)\n",
        "m=[]\n",
        "c=[]\n",
        "l=[]\n",
        "for i in range(f):\n",
        "    m.append(-1)\n",
        "\n",
        "print('\\nOutput wil be: ')\n",
        "for i in range(n):\n",
        "    test=0\n",
        "    for p in range(f):\n",
        "        c.append(m[p])\n",
        "    if i<f:\n",
        "        m[i]=a[i]\n",
        "        sum+=1\n",
        "        a[i]=-99\n",
        "    else:\n",
        "        for j in range(f):\n",
        "            if a[i]==m[j]:\n",
        "                test=1\n",
        "                a[i]=-99\n",
        "                break\n",
        "        if test==0:\n",
        "            for s in range(f):\n",
        "                if(m[s] in a):\n",
        "                    l.append(a.index(m[s]))\n",
        "                else:\n",
        "                    l.append(999)\n",
        "            idx=l.index(max(l))\n",
        "            m[idx]=a[i]\n",
        "            sum+=1\n",
        "            a[i]=-99\n",
        "\n",
        "\n",
        "    if c==m:\n",
        "        for q in range(f):\n",
        "            print('-',end=' ')\n",
        "    else:\n",
        "        for q in range(f):\n",
        "            if m[q]==-1:\n",
        "                print(\"-\",end=' ')\n",
        "            else:\n",
        "                print(m[q],end=' ')\n",
        "    c.clear()\n",
        "    l.clear()\n",
        "    print()\n",
        "\n",
        "print(\"Page Fault: \",sum)"
      ],
      "execution_count": null,
      "outputs": [
        {
          "output_type": "stream",
          "name": "stdout",
          "text": [
            "Enter no of Frames: 3\n",
            "Do you want to use user input[y/n]: y\n",
            "Inputs are:  [3, 2, 3, 1, 4, 1, 4, 2, 6, 1, 2, 4, 1, 5, 3, 6, 1, 2, 3, 1]\n",
            "\n",
            "Output wil be: \n",
            "3 - - \n",
            "3 2 - \n",
            "3 2 3 \n",
            "1 2 3 \n",
            "1 2 4 \n",
            "- - - \n",
            "- - - \n",
            "- - - \n",
            "1 2 6 \n",
            "- - - \n",
            "- - - \n",
            "1 4 6 \n",
            "- - - \n",
            "1 5 6 \n",
            "1 3 6 \n",
            "- - - \n",
            "- - - \n",
            "1 3 2 \n",
            "- - - \n",
            "- - - \n",
            "Page Fault:  10\n"
          ]
        }
      ]
    }
  ]
}