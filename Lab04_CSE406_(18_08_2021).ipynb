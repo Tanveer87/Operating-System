{
  "nbformat": 4,
  "nbformat_minor": 0,
  "metadata": {
    "colab": {
      "name": "Lab04_CSE406_(18-08-2021)",
      "provenance": [],
      "authorship_tag": "ABX9TyPWQm4PqzWhtNwi5d2MWCaV",
      "include_colab_link": true
    },
    "kernelspec": {
      "name": "python3",
      "display_name": "Python 3"
    },
    "language_info": {
      "name": "python"
    }
  },
  "cells": [
    {
      "cell_type": "markdown",
      "metadata": {
        "id": "view-in-github",
        "colab_type": "text"
      },
      "source": [
        "<a href=\"https://colab.research.google.com/github/Tanveer87/Operating-System/blob/main/Lab04_CSE406_(18_08_2021).ipynb\" target=\"_parent\"><img src=\"https://colab.research.google.com/assets/colab-badge.svg\" alt=\"Open In Colab\"/></a>"
      ]
    },
    {
      "cell_type": "markdown",
      "metadata": {
        "id": "bEadccKwlI4Y"
      },
      "source": [
        "## First Come First Serve (**FCFS**)"
      ]
    },
    {
      "cell_type": "code",
      "metadata": {
        "colab": {
          "base_uri": "https://localhost:8080/"
        },
        "id": "wfz-stt7lVNG",
        "outputId": "b4b2dac1-d3f8-4d18-dd65-8251659eafbf"
      },
      "source": [
        "def Take_Queue():\n",
        "    input_Queue = input('Input queue : ');\n",
        "    array = input_Queue.split(',');\n",
        "    length_of_queue = len(array);\n",
        "    return length_of_queue,array;\n",
        "\n",
        "def Take_head_start():\n",
        "    head_start = int(input('Input Head Starts : '));\n",
        "    return head_start\n",
        "def main_process(length_of_queue,head_start,array):\n",
        "    second_value=head_start;\n",
        "    Total_distance=0;\n",
        "    path=str(head_start);\n",
        "\n",
        "    for x in range(0,length_of_queue):\n",
        "        if int(array[x]) > second_value:\n",
        "            path=path+' '+array[x];\n",
        "            Total_distance=Total_distance+(int(array[x])-second_value);\n",
        "            second_value=int(array[x]);\n",
        "        else:\n",
        "            path = path + ' ' + array[x];\n",
        "            Total_distance=Total_distance+(second_value-int(array[x]));\n",
        "            second_value=int(array[x]);\n",
        "    print('Total Distance : '+ str(Total_distance));\n",
        "    print('Path : '+path);\n",
        "\n",
        "a,b=Take_Queue();\n",
        "c=Take_head_start();\n",
        "main_process(a,c,b)"
      ],
      "execution_count": 2,
      "outputs": [
        {
          "output_type": "stream",
          "text": [
            "Input queue : 98, 183,37,122,14,124,65,67\n",
            "Input Head Starts : 53\n",
            "Total Distance : 640\n",
            "Path : 53 98  183 37 122 14 124 65 67\n"
          ],
          "name": "stdout"
        }
      ]
    },
    {
      "cell_type": "markdown",
      "metadata": {
        "id": "sdYcBEd2mXqh"
      },
      "source": [
        "## Shortest Seek Time First (**SSTF**)"
      ]
    },
    {
      "cell_type": "code",
      "metadata": {
        "colab": {
          "base_uri": "https://localhost:8080/"
        },
        "id": "PhvB0emzmiUZ",
        "outputId": "5a68aa39-b69c-4381-aa7d-78d90427b3d0"
      },
      "source": [
        "def Take_Queue():\n",
        "    input_Queue = (input('Input queue : ')).strip(',');\n",
        "    array = input_Queue.split(',');\n",
        "    length_of_queue = len(array);\n",
        "\n",
        "    return length_of_queue, array;\n",
        "\n",
        "\n",
        "def Take_head_start():\n",
        "    head_start = int(input('Input Head Starts : '));\n",
        "    return head_start\n",
        "\n",
        "\n",
        "def main_function():\n",
        "    length_of_queue, array = Take_Queue()\n",
        "    head_start = Take_head_start()\n",
        "    sum = 0\n",
        "    path=str(head_start)\n",
        "    TwoDArray = []\n",
        "    for i in range(0, len(array)):\n",
        "        value_head_difference = [int(array[i]), head_start,0]\n",
        "        TwoDArray.append(value_head_difference)\n",
        "    for z in range(length_of_queue,0,-1):\n",
        "        value_head_difference = []\n",
        "        finding_min = []\n",
        "        for m in range(0, len(TwoDArray)):\n",
        "            TwoDArray[m][2]=(abs(TwoDArray[m][0]-TwoDArray[m][1]))\n",
        "            finding_min.append(TwoDArray[m][2])\n",
        "        print(TwoDArray)\n",
        "        minimum = min(finding_min)\n",
        "        print(minimum)\n",
        "        for j in range(0, len(TwoDArray)):\n",
        "            if TwoDArray[j][2] == minimum:\n",
        "\n",
        "                sum = sum + TwoDArray[j][2]\n",
        "                print(sum)\n",
        "                for k in range(0, len(TwoDArray)):\n",
        "                    TwoDArray[k][1] = TwoDArray[j][0]\n",
        "                head_start = TwoDArray[j][1]\n",
        "                a=TwoDArray[j]\n",
        "        path = path + ' ' + str(a[1])\n",
        "        TwoDArray.remove(a)\n",
        "\n",
        "        length_of_queue=int(len(TwoDArray))\n",
        "        print(len(TwoDArray))\n",
        "        print(TwoDArray)\n",
        "        print('Total distance :'+str(sum))\n",
        "        print('Path : '+path)\n",
        "\n",
        "main_function()"
      ],
      "execution_count": 3,
      "outputs": [
        {
          "output_type": "stream",
          "text": [
            "Input queue : 98,183,37,122,14,124,65,67\n",
            "Input Head Starts : 53\n",
            "[[98, 53, 45], [183, 53, 130], [37, 53, 16], [122, 53, 69], [14, 53, 39], [124, 53, 71], [65, 53, 12], [67, 53, 14]]\n",
            "12\n",
            "12\n",
            "7\n",
            "[[98, 65, 45], [183, 65, 130], [37, 65, 16], [122, 65, 69], [14, 65, 39], [124, 65, 71], [67, 65, 14]]\n",
            "Total distance :12\n",
            "Path : 53 65\n",
            "[[98, 65, 33], [183, 65, 118], [37, 65, 28], [122, 65, 57], [14, 65, 51], [124, 65, 59], [67, 65, 2]]\n",
            "2\n",
            "14\n",
            "6\n",
            "[[98, 67, 33], [183, 67, 118], [37, 67, 28], [122, 67, 57], [14, 67, 51], [124, 67, 59]]\n",
            "Total distance :14\n",
            "Path : 53 65 67\n",
            "[[98, 67, 31], [183, 67, 116], [37, 67, 30], [122, 67, 55], [14, 67, 53], [124, 67, 57]]\n",
            "30\n",
            "44\n",
            "5\n",
            "[[98, 37, 31], [183, 37, 116], [122, 37, 55], [14, 37, 53], [124, 37, 57]]\n",
            "Total distance :44\n",
            "Path : 53 65 67 37\n",
            "[[98, 37, 61], [183, 37, 146], [122, 37, 85], [14, 37, 23], [124, 37, 87]]\n",
            "23\n",
            "67\n",
            "4\n",
            "[[98, 14, 61], [183, 14, 146], [122, 14, 85], [124, 14, 87]]\n",
            "Total distance :67\n",
            "Path : 53 65 67 37 14\n",
            "[[98, 14, 84], [183, 14, 169], [122, 14, 108], [124, 14, 110]]\n",
            "84\n",
            "151\n",
            "3\n",
            "[[183, 98, 169], [122, 98, 108], [124, 98, 110]]\n",
            "Total distance :151\n",
            "Path : 53 65 67 37 14 98\n",
            "[[183, 98, 85], [122, 98, 24], [124, 98, 26]]\n",
            "24\n",
            "175\n",
            "2\n",
            "[[183, 122, 85], [124, 122, 26]]\n",
            "Total distance :175\n",
            "Path : 53 65 67 37 14 98 122\n",
            "[[183, 122, 61], [124, 122, 2]]\n",
            "2\n",
            "177\n",
            "1\n",
            "[[183, 124, 61]]\n",
            "Total distance :177\n",
            "Path : 53 65 67 37 14 98 122 124\n",
            "[[183, 124, 59]]\n",
            "59\n",
            "236\n",
            "0\n",
            "[]\n",
            "Total distance :236\n",
            "Path : 53 65 67 37 14 98 122 124 183\n"
          ],
          "name": "stdout"
        }
      ]
    }
  ]
}