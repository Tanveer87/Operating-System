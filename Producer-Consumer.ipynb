{
 "cells": [
  {
   "cell_type": "markdown",
   "metadata": {},
   "source": [
    "<div class=\"alert alert-success\">\n",
    "    <b>Author</b>:\n",
    "\n",
    "      Rashik Rahman\n",
    "      17201012@uap-bd.edu\n",
    "\n",
    "</div>\n",
    "\n",
    "\n"
   ]
  },
  {
   "cell_type": "code",
   "execution_count": 3,
   "metadata": {},
   "outputs": [
    {
     "name": "stdin",
     "output_type": "stream",
     "text": [
      "Initialize buffer size:  3\n",
      "\n",
      "1.Producer\n",
      "2.Consumer\n",
      "3.Exit\n",
      "Enter choice: 1\n"
     ]
    },
    {
     "name": "stdout",
     "output_type": "stream",
     "text": [
      "Producer produced item 1\n"
     ]
    },
    {
     "name": "stdin",
     "output_type": "stream",
     "text": [
      "\n",
      "1.Producer\n",
      "2.Consumer\n",
      "3.Exit\n",
      "Enter choice: 1\n"
     ]
    },
    {
     "name": "stdout",
     "output_type": "stream",
     "text": [
      "Producer produced item 2\n"
     ]
    },
    {
     "name": "stdin",
     "output_type": "stream",
     "text": [
      "\n",
      "1.Producer\n",
      "2.Consumer\n",
      "3.Exit\n",
      "Enter choice: 1\n"
     ]
    },
    {
     "name": "stdout",
     "output_type": "stream",
     "text": [
      "Producer produced item 3\n"
     ]
    },
    {
     "name": "stdin",
     "output_type": "stream",
     "text": [
      "\n",
      "1.Producer\n",
      "2.Consumer\n",
      "3.Exit\n",
      "Enter choice: 1\n"
     ]
    },
    {
     "name": "stdout",
     "output_type": "stream",
     "text": [
      "Buffer is full\n"
     ]
    },
    {
     "name": "stdin",
     "output_type": "stream",
     "text": [
      "\n",
      "1.Producer\n",
      "2.Consumer\n",
      "3.Exit\n",
      "Enter choice: 1\n"
     ]
    },
    {
     "name": "stdout",
     "output_type": "stream",
     "text": [
      "Buffer is full\n"
     ]
    },
    {
     "name": "stdin",
     "output_type": "stream",
     "text": [
      "\n",
      "1.Producer\n",
      "2.Consumer\n",
      "3.Exit\n",
      "Enter choice: 2\n"
     ]
    },
    {
     "name": "stdout",
     "output_type": "stream",
     "text": [
      "Consumer consumed item 3\n"
     ]
    },
    {
     "name": "stdin",
     "output_type": "stream",
     "text": [
      "\n",
      "1.Producer\n",
      "2.Consumer\n",
      "3.Exit\n",
      "Enter choice: 2\n"
     ]
    },
    {
     "name": "stdout",
     "output_type": "stream",
     "text": [
      "Consumer consumed item 2\n"
     ]
    },
    {
     "name": "stdin",
     "output_type": "stream",
     "text": [
      "\n",
      "1.Producer\n",
      "2.Consumer\n",
      "3.Exit\n",
      "Enter choice: 2\n"
     ]
    },
    {
     "name": "stdout",
     "output_type": "stream",
     "text": [
      "Consumer consumed item 1\n"
     ]
    },
    {
     "name": "stdin",
     "output_type": "stream",
     "text": [
      "\n",
      "1.Producer\n",
      "2.Consumer\n",
      "3.Exit\n",
      "Enter choice: 2\n"
     ]
    },
    {
     "name": "stdout",
     "output_type": "stream",
     "text": [
      "Buffer is empty\n"
     ]
    },
    {
     "name": "stdin",
     "output_type": "stream",
     "text": [
      "\n",
      "1.Producer\n",
      "2.Consumer\n",
      "3.Exit\n",
      "Enter choice: 2\n"
     ]
    },
    {
     "name": "stdout",
     "output_type": "stream",
     "text": [
      "Buffer is empty\n"
     ]
    },
    {
     "name": "stdin",
     "output_type": "stream",
     "text": [
      "\n",
      "1.Producer\n",
      "2.Consumer\n",
      "3.Exit\n",
      "Enter choice: 3\n"
     ]
    }
   ],
   "source": [
    "buffer = int(input('Initialize buffer size: '))\n",
    "ls =[]\n",
    "\n",
    "while True:\n",
    "    choice = int(input('\\n1.Producer\\n2.Consumer\\n3.Exit\\nEnter choice:'))\n",
    "    if choice == 3:\n",
    "        break\n",
    "    elif choice == 1:\n",
    "        if len(ls) == buffer:\n",
    "            print('Buffer is full')\n",
    "        else:\n",
    "            ls.append(1)\n",
    "            print('Producer produced item {}'.format(len(ls)))\n",
    "    else:\n",
    "        if len(ls) == 0:\n",
    "            print('Buffer is empty')\n",
    "        else:\n",
    "            \n",
    "            print('Consumer consumed item {}'.format(len(ls)))\n",
    "            ls.pop()\n",
    "           "
   ]
  }
 ],
 "metadata": {
  "kernelspec": {
   "display_name": "Python 3",
   "language": "python",
   "name": "python3"
  },
  "language_info": {
   "codemirror_mode": {
    "name": "ipython",
    "version": 3
   },
   "file_extension": ".py",
   "mimetype": "text/x-python",
   "name": "python",
   "nbconvert_exporter": "python",
   "pygments_lexer": "ipython3",
   "version": "3.8.5"
  }
 },
 "nbformat": 4,
 "nbformat_minor": 4
}
