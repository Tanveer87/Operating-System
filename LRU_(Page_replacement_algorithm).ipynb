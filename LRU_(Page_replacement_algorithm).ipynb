{
  "nbformat": 4,
  "nbformat_minor": 0,
  "metadata": {
    "colab": {
      "name": "LRU (Page replacement algorithm).ipynb",
      "provenance": [],
      "authorship_tag": "ABX9TyO/maP2+A+THj3yCvTH4m8I",
      "include_colab_link": true
    },
    "kernelspec": {
      "name": "python3",
      "display_name": "Python 3"
    },
    "language_info": {
      "name": "python"
    }
  },
  "cells": [
    {
      "cell_type": "markdown",
      "metadata": {
        "id": "view-in-github",
        "colab_type": "text"
      },
      "source": [
        "<a href=\"https://colab.research.google.com/github/Tanveer87/Operating-System/blob/main/LRU_(Page_replacement_algorithm).ipynb\" target=\"_parent\"><img src=\"https://colab.research.google.com/assets/colab-badge.svg\" alt=\"Open In Colab\"/></a>"
      ]
    },
    {
      "cell_type": "markdown",
      "metadata": {
        "id": "j4DPlkL6yrJc"
      },
      "source": [
        "## **LRU (Page replacement algorithm)**"
      ]
    },
    {
      "cell_type": "code",
      "metadata": {
        "colab": {
          "base_uri": "https://localhost:8080/"
        },
        "id": "dfYLiwl5yiZN",
        "outputId": "9bfd1196-3b05-4136-fc55-9b3904cf1c89"
      },
      "source": [
        "a=[]\n",
        "sum=0\n",
        "f= int (input(\"Enter no of Frames: \"))\n",
        "check= input(\"Do you want to use user input[y/n]: \")\n",
        "if check=='y':\n",
        "    a=[7,0,1,2,0,3,0,4,2,3,0,3,2,1,2,0,1,7,0,1]\n",
        "    print(\"Inputs are: \", a)\n",
        "else:\n",
        "    n= int (input(\"Enter no of String : \"))\n",
        "    print(\"Enter the string: \")\n",
        "    for i in range(n):\n",
        "      t= int (input())\n",
        "      a.append(t)\n",
        "n=len(a)\n",
        "m=[]\n",
        "c=[]\n",
        "t=[]\n",
        "total=0\n",
        "idx=0\n",
        "for i in range(f):\n",
        "    m.append(-1)\n",
        "    t.append(0)\n",
        "\n",
        "print('\\nOutput wil be: ')\n",
        "for i in range(n):\n",
        "    test=0\n",
        "    for p in range(f):\n",
        "        c.append(m[p])\n",
        "\n",
        "    for j in range(f):\n",
        "        if a[i]==m[j]:\n",
        "            test=1\n",
        "            total+=1\n",
        "            t[j]=total\n",
        "            break\n",
        "    if test==0:\n",
        "        idx=t.index(min(t))\n",
        "        m[idx]= a[i]\n",
        "        total+=1\n",
        "        t[idx]=total\n",
        "        sum+=1\n",
        "\n",
        "\n",
        "    if c==m:\n",
        "        for q in range(f):\n",
        "            print('-',end=' ')\n",
        "    else:\n",
        "        for q in range(f):\n",
        "            if m[q]==-1:\n",
        "                print(\"-\",end=' ')\n",
        "            else:\n",
        "                print(m[q],end=' ')\n",
        "    c.clear()\n",
        "    print()\n",
        "\n",
        "print(\"Page Fault: \",sum)"
      ],
      "execution_count": 1,
      "outputs": [
        {
          "output_type": "stream",
          "name": "stdout",
          "text": [
            "Enter no of Frames: 3\n",
            "Do you want to use user input[y/n]: y\n",
            "Inputs are:  [7, 0, 1, 2, 0, 3, 0, 4, 2, 3, 0, 3, 2, 1, 2, 0, 1, 7, 0, 1]\n",
            "\n",
            "Output wil be: \n",
            "7 - - \n",
            "7 0 - \n",
            "7 0 1 \n",
            "2 0 1 \n",
            "- - - \n",
            "2 0 3 \n",
            "- - - \n",
            "4 0 3 \n",
            "4 0 2 \n",
            "4 3 2 \n",
            "0 3 2 \n",
            "- - - \n",
            "- - - \n",
            "1 3 2 \n",
            "- - - \n",
            "1 0 2 \n",
            "- - - \n",
            "1 0 7 \n",
            "- - - \n",
            "- - - \n",
            "Page Fault:  12\n"
          ]
        }
      ]
    }
  ]
}